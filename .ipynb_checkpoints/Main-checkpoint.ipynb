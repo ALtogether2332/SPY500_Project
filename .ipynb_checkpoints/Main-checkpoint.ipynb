{
 "cells": [
  {
   "cell_type": "code",
   "execution_count": null,
   "metadata": {},
   "outputs": [],
   "source": [
    "#All modules used.\n",
    "import seaborn as sns\n",
    "import matplotlib.pyplot as plt\n",
    "import numpy as np\n",
    "import pandas as pd\n",
    "%matplotlib inline\n",
    "import datetime\n",
    "import pandas_datareader as data"
   ]
  },
  {
   "cell_type": "code",
   "execution_count": null,
   "metadata": {},
   "outputs": [],
   "source": [
    "#Importing Stock Information.\n",
    "SPY_Firms = pd.read_csv('Firm_SPY500.csv', index_col = 'Symbol')\n",
    "SPY_Firms.columns = (['Unnamed: 0', 'Firm', 'GICS Sector', 'Headquarters Location'])\n",
    "SPY_Firms = SPY_Firms.sort_index()"
   ]
  },
  {
   "cell_type": "code",
   "execution_count": null,
   "metadata": {},
   "outputs": [],
   "source": [
    "#Create list of all Firm symbols, referred to as tickers, for looping purposes.\n",
    "Symbols = []\n",
    "for symbol in SPY_Firms.index:\n",
    "    Symbols.append(symbol)"
   ]
  },
  {
   "cell_type": "code",
   "execution_count": null,
   "metadata": {},
   "outputs": [],
   "source": [
    "#Import daily performance info for each stock over the last 30 days into a dictionary. \n",
    "start = datetime.datetime(2021,10,11)\n",
    "end = datetime.datetime(2021,11,22)\n",
    "d = {}\n",
    "for symbol in Symbols:\n",
    "        try:\n",
    "            d[symbol] = data.DataReader(symbol, \n",
    "                       start=start, \n",
    "                       end=end, \n",
    "                       data_source='yahoo')\n",
    "        except KeyError:\n",
    "            print('Further Analysis Required')"
   ]
  },
  {
   "cell_type": "code",
   "execution_count": null,
   "metadata": {},
   "outputs": [],
   "source": [
    "#Convert dictionary to DataFrame through concatination of dictionary values\n",
    "Firms_SPY500_30 = pd.concat(d.values(),axis = 1, keys = Symbols)\n",
    "Firms_SPY500_30.columns.names = ['Symbol', 'Info']\n",
    "Firms_SPY500_30.to_pickle('Firms_SPY500_30.pkl')\n",
    "Firms_SPY500_30.head(3)"
   ]
  },
  {
   "cell_type": "code",
   "execution_count": null,
   "metadata": {},
   "outputs": [],
   "source": [
    "#DataFrame of solely the adjusted returns. , talk about why adj vs close\n",
    "Firms_SPY500_30_Adj = Firms_SPY500_30.xs(key = 'Adj Close', axis = 1, level='Info')\n",
    "Firms_SPY500_30_Adj.head(1)"
   ]
  },
  {
   "cell_type": "code",
   "execution_count": null,
   "metadata": {},
   "outputs": [],
   "source": [
    "#Creates DataFrame of Daily Returns for each stock.\n",
    "Daily_Return = pd.DataFrame()\n",
    "for symbol in Symbols:\n",
    "    Daily_Return[symbol] = Firms_SPY500_30_Adj[symbol].pct_change()\n",
    "Daily_Return.drop(labels = start, axis = 0, inplace = True)\n",
    "Daily_Return.isna().values.any()"
   ]
  },
  {
   "cell_type": "code",
   "execution_count": null,
   "metadata": {},
   "outputs": [],
   "source": [
    "#Creates DataFrame for the cumulative returns of each stock\n",
    "Daily_Return_Cum = (Daily_Return+1).cumprod() - 1"
   ]
  },
  {
   "cell_type": "code",
   "execution_count": null,
   "metadata": {},
   "outputs": [],
   "source": [
    "#Create DataFrame of 30 day (total) cumulative return for each stock.\n",
    "Returns_30day = pd.DataFrame(Daily_Return_Cum.iloc[-1])\n",
    "Returns_30day.columns = ['30d Return']\n",
    "Returns_30day.index.names = [('Symbol')]\n",
    "Returns_30day_info = pd.DataFrame(SPY_Firms.merge(Returns_30day, on = 'Symbol'))\n",
    "Returns_30day_info.drop(columns = ['Unnamed: 0', 'Headquarters Location'], inplace = True)\n",
    "Returns_30day_info.sort_values('Symbol') "
   ]
  },
  {
   "cell_type": "code",
   "execution_count": null,
   "metadata": {},
   "outputs": [],
   "source": [
    "#Bar chart of top performing firms corresponding sector.\n",
    "Top_Firms = Returns_30day_info.sort_values('30d Return', ascending = False).head(50)\n",
    "sns.barplot(y = Top_Firms['GICS Sector'].unique() ,x = Top_Firms['GICS Sector'].value_counts(), color = 'b')\n",
    "plt.title('Sectors of Top Performing Firms')\n",
    "plt.savefig('Sectors of Top Performing Firms.png', bbox_inches = 'tight')"
   ]
  },
  {
   "cell_type": "code",
   "execution_count": null,
   "metadata": {},
   "outputs": [],
   "source": [
    "#Bar chart of worst firms correspoding sectors\n",
    "Bottom_Firms = Returns_30day_info.sort_values('30d Return', ascending = True).head(50)\n",
    "sns.barplot(y = Bottom_Firms['GICS Sector'].unique() ,x = Bottom_Firms['GICS Sector'].value_counts(), color = 'b')\n",
    "plt.title('Sectors of Worst Performing Firms')\n",
    "plt.savefig('Sectors of Worst Performing Firms.png', bbox_inches = 'tight')"
   ]
  },
  {
   "cell_type": "code",
   "execution_count": null,
   "metadata": {},
   "outputs": [],
   "source": [
    "#Check for over  representation\n",
    "fig = plt.figure(figsize = (6,6))\n",
    "Returns_30day_info['GICS Sector'].value_counts().plot(kind = 'pie', labels = Returns_30day_info['GICS Sector'].unique(), autopct='%1.1f%%', colormap = 'tab20')\n",
    "plt.ylabel('')\n",
    "plt.title('S&P500 Sectors')\n",
    "plt.savefig('S&P 500 Sectors.png', bbox_inches = 'tight')"
   ]
  },
  {
   "cell_type": "code",
   "execution_count": null,
   "metadata": {},
   "outputs": [],
   "source": [
    "#Insight 2. Measure of skewness and distribution, we can see IT is very spread out vs utilites compact.\n",
    "fig = plt.figure(figsize = (12,5))\n",
    "a = sns.boxplot(x = Returns_30day_info['GICS Sector'], y = Returns_30day_info['30d Return'],data = Returns_30day_info, showfliers = True, color = 'dodgerblue')\n",
    "a.set_xticklabels(a.get_xticklabels(),rotation=45)\n",
    "plt.axhline(y=0 ,c = 'black', alpha = 1, ls = '--')\n",
    "plt.title('Total 30 Day Return by Sector', pad = 20)\n",
    "plt.savefig('Boxplot of Firms by Sector.png', bbox_inches = 'tight')"
   ]
  },
  {
   "cell_type": "code",
   "execution_count": null,
   "metadata": {},
   "outputs": [],
   "source": [
    "#Repeat for standard Deviation.\n",
    "SPY_Firms_30d_STD = pd.DataFrame(Firms_SPY500_30_Adj.std())\n",
    "SPY_Firms_30d_STD.columns = ['30d Standard Deviation']\n",
    "SPY_Firms_30d_STD = SPY_Firms.merge(SPY_Firms_30d_STD, on = 'Symbol')\n",
    "SPY_Firms_30d_STD.drop(columns = ['Unnamed: 0', 'Headquarters Location'], inplace = True)\n",
    "SPY_Firms_30d_STD.sort_values(by='30d Standard Deviation', inplace = True)"
   ]
  },
  {
   "cell_type": "code",
   "execution_count": null,
   "metadata": {},
   "outputs": [],
   "source": [
    "#Top 50 volatile stock\n",
    "Most_vol = SPY_Firms_30d_STD.tail(50)\n",
    "a = pd.DataFrame(Most_vol['GICS Sector'].value_counts())\n",
    "a.index.names = ['Stock']\n",
    "a.reset_index(inplace = True)\n",
    "sns.barplot(x = 'GICS Sector', y = 'Stock', data = a, color = 'b')\n",
    "plt.title(\"Sectors of Most Volitile Firms\")\n",
    "plt.ylabel('')\n",
    "plt.xlabel('Number of Firms')\n",
    "plt.savefig('Sectors of Most Volitile Firms.png', bbox_inches = 'tight')"
   ]
  },
  {
   "cell_type": "code",
   "execution_count": null,
   "metadata": {},
   "outputs": [],
   "source": [
    "#Top 50 volatile stock\n",
    "Least_vol = SPY_Firms_30d_STD.head(50)\n",
    "a = pd.DataFrame(Least_vol['GICS Sector'].value_counts())\n",
    "a.index.names = ['Stock']\n",
    "a.reset_index(inplace = True)\n",
    "sns.barplot(x = 'GICS Sector', y = 'Stock', data = a, color = 'b')\n",
    "plt.title(\"Sectors of Least Volitile Firms\")\n",
    "plt.ylabel('')\n",
    "plt.xlabel('Number of Firms')\n",
    "plt.savefig('Sectors of Least Volitile Firms.png', bbox_inches = 'tight')"
   ]
  }
 ],
 "metadata": {
  "kernelspec": {
   "display_name": "Python 3",
   "language": "python",
   "name": "python3"
  },
  "language_info": {
   "codemirror_mode": {
    "name": "ipython",
    "version": 3
   },
   "file_extension": ".py",
   "mimetype": "text/x-python",
   "name": "python",
   "nbconvert_exporter": "python",
   "pygments_lexer": "ipython3",
   "version": "3.8.5"
  }
 },
 "nbformat": 4,
 "nbformat_minor": 4
}
