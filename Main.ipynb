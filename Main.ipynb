{
 "cells": [
  {
   "cell_type": "code",
   "execution_count": 1,
   "metadata": {},
   "outputs": [],
   "source": [
    "import seaborn as sns\n",
    "import matplotlib.pyplot as plt\n",
    "import numpy as np\n",
    "import pandas as pd\n",
    "%matplotlib inline\n",
    "import datetime\n",
    "import pandas_datareader as data"
   ]
  },
  {
   "cell_type": "code",
   "execution_count": 12,
   "metadata": {},
   "outputs": [],
   "source": [
    "SPY_Firms = pd.read_csv('Firm_SPY500.csv', index_col = 'Symbol')\n",
    "SPY_Firms.columns = (['Unnamed: 0', 'Firm', 'GICS Sector', 'Headquarters Location'])\n",
    "SPY_Firms = SPY_Firms.sort_index()"
   ]
  },
  {
   "cell_type": "code",
   "execution_count": 13,
   "metadata": {},
   "outputs": [],
   "source": [
    "#Create list of all Firm Symbol(Tickers) for looping purposes\n",
    "Symbols = []\n",
    "for symbol in SPY_Firms.index:\n",
    "    Symbols.append(symbol)"
   ]
  },
  {
   "cell_type": "code",
   "execution_count": 15,
   "metadata": {},
   "outputs": [],
   "source": [
    "#Import Data on each stock for last 30 days as dictionary\n",
    "start = datetime.datetime(2021,10,11)\n",
    "end = datetime.datetime(2021,11,22)\n",
    "d = {}\n",
    "for symbol in Symbols:\n",
    "        try:\n",
    "            d[symbol] = data.DataReader(symbol, \n",
    "                       start=start, \n",
    "                       end=end, \n",
    "                       data_source='yahoo')\n",
    "        except KeyError:\n",
    "            print('Further Analysis Required')"
   ]
  },
  {
   "cell_type": "code",
   "execution_count": 19,
   "metadata": {},
   "outputs": [
    {
     "data": {
      "text/html": [
       "<div>\n",
       "<style scoped>\n",
       "    .dataframe tbody tr th:only-of-type {\n",
       "        vertical-align: middle;\n",
       "    }\n",
       "\n",
       "    .dataframe tbody tr th {\n",
       "        vertical-align: top;\n",
       "    }\n",
       "\n",
       "    .dataframe thead tr th {\n",
       "        text-align: left;\n",
       "    }\n",
       "\n",
       "    .dataframe thead tr:last-of-type th {\n",
       "        text-align: right;\n",
       "    }\n",
       "</style>\n",
       "<table border=\"1\" class=\"dataframe\">\n",
       "  <thead>\n",
       "    <tr>\n",
       "      <th>Symbol</th>\n",
       "      <th colspan=\"6\" halign=\"left\">A</th>\n",
       "      <th colspan=\"4\" halign=\"left\">AAL</th>\n",
       "      <th>...</th>\n",
       "      <th colspan=\"4\" halign=\"left\">ZION</th>\n",
       "      <th colspan=\"6\" halign=\"left\">ZTS</th>\n",
       "    </tr>\n",
       "    <tr>\n",
       "      <th>Info</th>\n",
       "      <th>High</th>\n",
       "      <th>Low</th>\n",
       "      <th>Open</th>\n",
       "      <th>Close</th>\n",
       "      <th>Volume</th>\n",
       "      <th>Adj Close</th>\n",
       "      <th>High</th>\n",
       "      <th>Low</th>\n",
       "      <th>Open</th>\n",
       "      <th>Close</th>\n",
       "      <th>...</th>\n",
       "      <th>Open</th>\n",
       "      <th>Close</th>\n",
       "      <th>Volume</th>\n",
       "      <th>Adj Close</th>\n",
       "      <th>High</th>\n",
       "      <th>Low</th>\n",
       "      <th>Open</th>\n",
       "      <th>Close</th>\n",
       "      <th>Volume</th>\n",
       "      <th>Adj Close</th>\n",
       "    </tr>\n",
       "    <tr>\n",
       "      <th>Date</th>\n",
       "      <th></th>\n",
       "      <th></th>\n",
       "      <th></th>\n",
       "      <th></th>\n",
       "      <th></th>\n",
       "      <th></th>\n",
       "      <th></th>\n",
       "      <th></th>\n",
       "      <th></th>\n",
       "      <th></th>\n",
       "      <th></th>\n",
       "      <th></th>\n",
       "      <th></th>\n",
       "      <th></th>\n",
       "      <th></th>\n",
       "      <th></th>\n",
       "      <th></th>\n",
       "      <th></th>\n",
       "      <th></th>\n",
       "      <th></th>\n",
       "      <th></th>\n",
       "    </tr>\n",
       "  </thead>\n",
       "  <tbody>\n",
       "    <tr>\n",
       "      <th>2021-10-11</th>\n",
       "      <td>152.360001</td>\n",
       "      <td>149.880005</td>\n",
       "      <td>151.490005</td>\n",
       "      <td>150.020004</td>\n",
       "      <td>1106300</td>\n",
       "      <td>150.020004</td>\n",
       "      <td>20.51</td>\n",
       "      <td>19.850000</td>\n",
       "      <td>19.980000</td>\n",
       "      <td>20.129999</td>\n",
       "      <td>...</td>\n",
       "      <td>64.080002</td>\n",
       "      <td>62.439999</td>\n",
       "      <td>800900</td>\n",
       "      <td>62.439999</td>\n",
       "      <td>199.100006</td>\n",
       "      <td>196.029999</td>\n",
       "      <td>197.559998</td>\n",
       "      <td>197.649994</td>\n",
       "      <td>901900.0</td>\n",
       "      <td>197.414230</td>\n",
       "    </tr>\n",
       "    <tr>\n",
       "      <th>2021-10-12</th>\n",
       "      <td>151.179993</td>\n",
       "      <td>146.300003</td>\n",
       "      <td>151.179993</td>\n",
       "      <td>147.949997</td>\n",
       "      <td>1809900</td>\n",
       "      <td>147.949997</td>\n",
       "      <td>20.40</td>\n",
       "      <td>20.030001</td>\n",
       "      <td>20.200001</td>\n",
       "      <td>20.290001</td>\n",
       "      <td>...</td>\n",
       "      <td>62.180000</td>\n",
       "      <td>62.709999</td>\n",
       "      <td>1083000</td>\n",
       "      <td>62.709999</td>\n",
       "      <td>199.369995</td>\n",
       "      <td>195.770004</td>\n",
       "      <td>198.889999</td>\n",
       "      <td>197.149994</td>\n",
       "      <td>1398000.0</td>\n",
       "      <td>196.914825</td>\n",
       "    </tr>\n",
       "    <tr>\n",
       "      <th>2021-10-13</th>\n",
       "      <td>150.880005</td>\n",
       "      <td>148.740005</td>\n",
       "      <td>149.080002</td>\n",
       "      <td>150.220001</td>\n",
       "      <td>1509100</td>\n",
       "      <td>150.220001</td>\n",
       "      <td>20.25</td>\n",
       "      <td>19.530001</td>\n",
       "      <td>20.250000</td>\n",
       "      <td>19.610001</td>\n",
       "      <td>...</td>\n",
       "      <td>62.740002</td>\n",
       "      <td>62.139999</td>\n",
       "      <td>970600</td>\n",
       "      <td>62.139999</td>\n",
       "      <td>198.949997</td>\n",
       "      <td>195.789993</td>\n",
       "      <td>196.970001</td>\n",
       "      <td>197.460007</td>\n",
       "      <td>1223800.0</td>\n",
       "      <td>197.224457</td>\n",
       "    </tr>\n",
       "  </tbody>\n",
       "</table>\n",
       "<p>3 rows × 3030 columns</p>\n",
       "</div>"
      ],
      "text/plain": [
       "Symbol               A                                               \\\n",
       "Info              High         Low        Open       Close   Volume   \n",
       "Date                                                                  \n",
       "2021-10-11  152.360001  149.880005  151.490005  150.020004  1106300   \n",
       "2021-10-12  151.179993  146.300003  151.179993  147.949997  1809900   \n",
       "2021-10-13  150.880005  148.740005  149.080002  150.220001  1509100   \n",
       "\n",
       "Symbol                    AAL                                   ...  \\\n",
       "Info         Adj Close   High        Low       Open      Close  ...   \n",
       "Date                                                            ...   \n",
       "2021-10-11  150.020004  20.51  19.850000  19.980000  20.129999  ...   \n",
       "2021-10-12  147.949997  20.40  20.030001  20.200001  20.290001  ...   \n",
       "2021-10-13  150.220001  20.25  19.530001  20.250000  19.610001  ...   \n",
       "\n",
       "Symbol           ZION                                        ZTS              \\\n",
       "Info             Open      Close   Volume  Adj Close        High         Low   \n",
       "Date                                                                           \n",
       "2021-10-11  64.080002  62.439999   800900  62.439999  199.100006  196.029999   \n",
       "2021-10-12  62.180000  62.709999  1083000  62.709999  199.369995  195.770004   \n",
       "2021-10-13  62.740002  62.139999   970600  62.139999  198.949997  195.789993   \n",
       "\n",
       "Symbol                                                     \n",
       "Info              Open       Close     Volume   Adj Close  \n",
       "Date                                                       \n",
       "2021-10-11  197.559998  197.649994   901900.0  197.414230  \n",
       "2021-10-12  198.889999  197.149994  1398000.0  196.914825  \n",
       "2021-10-13  196.970001  197.460007  1223800.0  197.224457  \n",
       "\n",
       "[3 rows x 3030 columns]"
      ]
     },
     "execution_count": 19,
     "metadata": {},
     "output_type": "execute_result"
    }
   ],
   "source": [
    "#Convert dictionary to DataFrame through concatination of dictionary values\n",
    "Firms_SPY500_30 = pd.concat(d.values(),axis = 1, keys = Symbols)\n",
    "Firms_SPY500_30.columns.names = ['Symbol', 'Info']\n",
    "Firms_SPY500_30.to_pickle('Firms_SPY500_30.pkl')\n",
    "Firms_SPY500_30.head(3)"
   ]
  },
  {
   "cell_type": "code",
   "execution_count": 20,
   "metadata": {},
   "outputs": [],
   "source": [
    "#Show how no missing Data, speak a little about bias."
   ]
  },
  {
   "cell_type": "code",
   "execution_count": 39,
   "metadata": {},
   "outputs": [
    {
     "data": {
      "text/html": [
       "<div>\n",
       "<style scoped>\n",
       "    .dataframe tbody tr th:only-of-type {\n",
       "        vertical-align: middle;\n",
       "    }\n",
       "\n",
       "    .dataframe tbody tr th {\n",
       "        vertical-align: top;\n",
       "    }\n",
       "\n",
       "    .dataframe thead th {\n",
       "        text-align: right;\n",
       "    }\n",
       "</style>\n",
       "<table border=\"1\" class=\"dataframe\">\n",
       "  <thead>\n",
       "    <tr style=\"text-align: right;\">\n",
       "      <th>Symbol</th>\n",
       "      <th>A</th>\n",
       "      <th>AAL</th>\n",
       "      <th>AAP</th>\n",
       "      <th>AAPL</th>\n",
       "      <th>ABBV</th>\n",
       "      <th>ABC</th>\n",
       "      <th>ABMD</th>\n",
       "      <th>ABT</th>\n",
       "      <th>ACN</th>\n",
       "      <th>ADBE</th>\n",
       "      <th>...</th>\n",
       "      <th>XEL</th>\n",
       "      <th>XLNX</th>\n",
       "      <th>XOM</th>\n",
       "      <th>XRAY</th>\n",
       "      <th>XYL</th>\n",
       "      <th>YUM</th>\n",
       "      <th>ZBH</th>\n",
       "      <th>ZBRA</th>\n",
       "      <th>ZION</th>\n",
       "      <th>ZTS</th>\n",
       "    </tr>\n",
       "    <tr>\n",
       "      <th>Date</th>\n",
       "      <th></th>\n",
       "      <th></th>\n",
       "      <th></th>\n",
       "      <th></th>\n",
       "      <th></th>\n",
       "      <th></th>\n",
       "      <th></th>\n",
       "      <th></th>\n",
       "      <th></th>\n",
       "      <th></th>\n",
       "      <th></th>\n",
       "      <th></th>\n",
       "      <th></th>\n",
       "      <th></th>\n",
       "      <th></th>\n",
       "      <th></th>\n",
       "      <th></th>\n",
       "      <th></th>\n",
       "      <th></th>\n",
       "      <th></th>\n",
       "      <th></th>\n",
       "    </tr>\n",
       "  </thead>\n",
       "  <tbody>\n",
       "    <tr>\n",
       "      <th>2021-10-11</th>\n",
       "      <td>150.020004</td>\n",
       "      <td>20.129999</td>\n",
       "      <td>212.119995</td>\n",
       "      <td>142.601883</td>\n",
       "      <td>109.018311</td>\n",
       "      <td>121.952042</td>\n",
       "      <td>332.149994</td>\n",
       "      <td>116.430458</td>\n",
       "      <td>325.533539</td>\n",
       "      <td>573.070007</td>\n",
       "      <td>...</td>\n",
       "      <td>62.439999</td>\n",
       "      <td>155.199997</td>\n",
       "      <td>60.743652</td>\n",
       "      <td>57.169998</td>\n",
       "      <td>118.532364</td>\n",
       "      <td>121.518127</td>\n",
       "      <td>143.789993</td>\n",
       "      <td>493.130005</td>\n",
       "      <td>62.439999</td>\n",
       "      <td>197.41423</td>\n",
       "    </tr>\n",
       "  </tbody>\n",
       "</table>\n",
       "<p>1 rows × 505 columns</p>\n",
       "</div>"
      ],
      "text/plain": [
       "Symbol               A        AAL         AAP        AAPL        ABBV  \\\n",
       "Date                                                                    \n",
       "2021-10-11  150.020004  20.129999  212.119995  142.601883  109.018311   \n",
       "\n",
       "Symbol             ABC        ABMD         ABT         ACN        ADBE  ...  \\\n",
       "Date                                                                    ...   \n",
       "2021-10-11  121.952042  332.149994  116.430458  325.533539  573.070007  ...   \n",
       "\n",
       "Symbol            XEL        XLNX        XOM       XRAY         XYL  \\\n",
       "Date                                                                  \n",
       "2021-10-11  62.439999  155.199997  60.743652  57.169998  118.532364   \n",
       "\n",
       "Symbol             YUM         ZBH        ZBRA       ZION        ZTS  \n",
       "Date                                                                  \n",
       "2021-10-11  121.518127  143.789993  493.130005  62.439999  197.41423  \n",
       "\n",
       "[1 rows x 505 columns]"
      ]
     },
     "execution_count": 39,
     "metadata": {},
     "output_type": "execute_result"
    }
   ],
   "source": [
    "#DataFrame of solely the adjusted returns, talk about why adj vs close\n",
    "Firms_SPY500_30_Adj = Firms_SPY500_30.xs(key = 'Adj Close', axis = 1, level='Info')\n",
    "Firms_SPY500_30_Adj.head(1)"
   ]
  },
  {
   "cell_type": "code",
   "execution_count": 50,
   "metadata": {},
   "outputs": [
    {
     "data": {
      "text/plain": [
       "False"
      ]
     },
     "execution_count": 50,
     "metadata": {},
     "output_type": "execute_result"
    }
   ],
   "source": [
    "#Create DataFrame of Daily Returns for each stock\n",
    "Daily_Return = pd.DataFrame()\n",
    "for symbol in Symbols:\n",
    "    Daily_Return[symbol] = Firms_SPY500_30_Adj[symbol].pct_change()\n",
    "Daily_Return.drop(labels = start, axis = 0, inplace = True)\n",
    "Daily_Return.isna().values.any()"
   ]
  },
  {
   "cell_type": "code",
   "execution_count": 51,
   "metadata": {},
   "outputs": [
    {
     "data": {
      "text/html": [
       "<div>\n",
       "<style scoped>\n",
       "    .dataframe tbody tr th:only-of-type {\n",
       "        vertical-align: middle;\n",
       "    }\n",
       "\n",
       "    .dataframe tbody tr th {\n",
       "        vertical-align: top;\n",
       "    }\n",
       "\n",
       "    .dataframe thead th {\n",
       "        text-align: right;\n",
       "    }\n",
       "</style>\n",
       "<table border=\"1\" class=\"dataframe\">\n",
       "  <thead>\n",
       "    <tr style=\"text-align: right;\">\n",
       "      <th></th>\n",
       "      <th>A</th>\n",
       "      <th>AAL</th>\n",
       "      <th>AAP</th>\n",
       "      <th>AAPL</th>\n",
       "      <th>ABBV</th>\n",
       "      <th>ABC</th>\n",
       "      <th>ABMD</th>\n",
       "      <th>ABT</th>\n",
       "      <th>ACN</th>\n",
       "      <th>ADBE</th>\n",
       "      <th>...</th>\n",
       "      <th>XEL</th>\n",
       "      <th>XLNX</th>\n",
       "      <th>XOM</th>\n",
       "      <th>XRAY</th>\n",
       "      <th>XYL</th>\n",
       "      <th>YUM</th>\n",
       "      <th>ZBH</th>\n",
       "      <th>ZBRA</th>\n",
       "      <th>ZION</th>\n",
       "      <th>ZTS</th>\n",
       "    </tr>\n",
       "    <tr>\n",
       "      <th>Date</th>\n",
       "      <th></th>\n",
       "      <th></th>\n",
       "      <th></th>\n",
       "      <th></th>\n",
       "      <th></th>\n",
       "      <th></th>\n",
       "      <th></th>\n",
       "      <th></th>\n",
       "      <th></th>\n",
       "      <th></th>\n",
       "      <th></th>\n",
       "      <th></th>\n",
       "      <th></th>\n",
       "      <th></th>\n",
       "      <th></th>\n",
       "      <th></th>\n",
       "      <th></th>\n",
       "      <th></th>\n",
       "      <th></th>\n",
       "      <th></th>\n",
       "      <th></th>\n",
       "    </tr>\n",
       "  </thead>\n",
       "  <tbody>\n",
       "    <tr>\n",
       "      <th>2021-11-22</th>\n",
       "      <td>0.085055</td>\n",
       "      <td>-0.024839</td>\n",
       "      <td>0.092919</td>\n",
       "      <td>0.129158</td>\n",
       "      <td>0.060831</td>\n",
       "      <td>-0.006823</td>\n",
       "      <td>0.009544</td>\n",
       "      <td>0.075835</td>\n",
       "      <td>0.116014</td>\n",
       "      <td>0.175371</td>\n",
       "      <td>...</td>\n",
       "      <td>0.061979</td>\n",
       "      <td>0.420941</td>\n",
       "      <td>0.012616</td>\n",
       "      <td>-0.084135</td>\n",
       "      <td>0.076584</td>\n",
       "      <td>0.036639</td>\n",
       "      <td>-0.094374</td>\n",
       "      <td>0.22274</td>\n",
       "      <td>0.061019</td>\n",
       "      <td>0.136392</td>\n",
       "    </tr>\n",
       "  </tbody>\n",
       "</table>\n",
       "<p>1 rows × 505 columns</p>\n",
       "</div>"
      ],
      "text/plain": [
       "                   A       AAL       AAP      AAPL      ABBV       ABC  \\\n",
       "Date                                                                     \n",
       "2021-11-22  0.085055 -0.024839  0.092919  0.129158  0.060831 -0.006823   \n",
       "\n",
       "                ABMD       ABT       ACN      ADBE  ...       XEL      XLNX  \\\n",
       "Date                                                ...                       \n",
       "2021-11-22  0.009544  0.075835  0.116014  0.175371  ...  0.061979  0.420941   \n",
       "\n",
       "                 XOM      XRAY       XYL       YUM       ZBH     ZBRA  \\\n",
       "Date                                                                    \n",
       "2021-11-22  0.012616 -0.084135  0.076584  0.036639 -0.094374  0.22274   \n",
       "\n",
       "                ZION       ZTS  \n",
       "Date                            \n",
       "2021-11-22  0.061019  0.136392  \n",
       "\n",
       "[1 rows x 505 columns]"
      ]
     },
     "execution_count": 51,
     "metadata": {},
     "output_type": "execute_result"
    }
   ],
   "source": [
    "#Create DataFrame for the cumulative returns of each stock\n",
    "Daily_Return_Cum = (Daily_Return+1).cumprod() - 1\n",
    "Daily_Return_Cum.tail(1)"
   ]
  },
  {
   "cell_type": "code",
   "execution_count": null,
   "metadata": {},
   "outputs": [],
   "source": [
    "#Create DataFrame of 30 day cumulative Return with firm info\n",
    "Returns_30day = pd.DataFrame(Daily_Return_Cum.iloc[-1])\n",
    "Returns_30day.columns = ['30d Return']\n",
    "Returns_30day.index.names = [('Symbol')]\n",
    "Returns_30day_info = pd.DataFrame(SPY_Firms.merge(Returns_30day, on = 'Symbol'))\n",
    "Returns_30day_info.drop(columns = ['Unnamed: 0', 'Headquarters Location'], inplace = True)\n",
    "Returns_30day_info.sort_values('Symbol') "
   ]
  },
  {
   "cell_type": "code",
   "execution_count": 74,
   "metadata": {},
   "outputs": [
    {
     "data": {
      "text/plain": [
       "<AxesSubplot:>"
      ]
     },
     "execution_count": 74,
     "metadata": {},
     "output_type": "execute_result"
    },
    {
     "data": {
      "image/png": "[encoded data removed]",
      "text/plain": [
       "<Figure size 432x288 with 1 Axes>"
      ]
     },
     "metadata": {
      "needs_background": "light"
     },
     "output_type": "display_data"
    }
   ],
   "source": [
    "#What sector do the top perfomring stock belong to \n",
    "###Insight 1, part 1. Note 2 sectors dominates\n",
    "Top_Firms = Returns_30day_info.sort_values('30d Return', ascending = False).head(50)\n",
    "Top_Firms['GICS Sector'].value_counts().plot(kind = 'bar')"
   ]
  },
  {
   "cell_type": "code",
   "execution_count": 75,
   "metadata": {},
   "outputs": [
    {
     "data": {
      "text/plain": [
       "<AxesSubplot:>"
      ]
     },
     "execution_count": 75,
     "metadata": {},
     "output_type": "execute_result"
    },
    {
     "data": {
      "image/png": "[encoded data removed]",
      "text/plain": [
       "<Figure size 432x288 with 1 Axes>"
      ]
     },
     "metadata": {
      "needs_background": "light"
     },
     "output_type": "display_data"
    }
   ],
   "source": [
    "#Bottom 10 Performing Stocks\n",
    "###Insight 1, part 2.Indeed presence of IT again says something which should prompt overall analysis of sectorsBo\n",
    "Bottom_Firms = Returns_30day_info.sort_values('30d Return', ascending = True).head(50)\n",
    "Bottom_Firms['GICS Sector'].value_counts().plot(kind = 'bar')"
   ]
  },
  {
   "cell_type": "code",
   "execution_count": 97,
   "metadata": {},
   "outputs": [
    {
     "data": {
      "text/plain": [
       "Industrials               74\n",
       "Information Technology    74\n",
       "Financials                65\n",
       "Health Care               64\n",
       "Consumer Discretionary    63\n",
       "Consumer Staples          32\n",
       "Real Estate               29\n",
       "Utilities                 28\n",
       "Materials                 28\n",
       "Communication Services    27\n",
       "Energy                    21\n",
       "Name: GICS Sector, dtype: int64"
      ]
     },
     "execution_count": 97,
     "metadata": {},
     "output_type": "execute_result"
    },
    {
     "data": {
      "image/png": "[encoded data removed]",
      "text/plain": [
       "<Figure size 432x432 with 1 Axes>"
      ]
     },
     "metadata": {},
     "output_type": "display_data"
    }
   ],
   "source": [
    "#Check for over  representation\n",
    "fig = plt.figure(figsize = (6,6))\n",
    "Returns_30day_info['GICS Sector'].value_counts().plot(kind = 'pie', labels = Returns_30day_info['GICS Sector'].unique(), autopct='%1.1f%%', colormap = 'tab20')\n",
    "plt.ylabel('')\n",
    "Returns_30day_info['GICS Sector'].value_counts()"
   ]
  },
  {
   "cell_type": "code",
   "execution_count": 107,
   "metadata": {},
   "outputs": [
    {
     "data": {
      "image/png": "[encoded data removed]",
      "text/plain": [
       "<Figure size 1080x720 with 1 Axes>"
      ]
     },
     "metadata": {
      "needs_background": "light"
     },
     "output_type": "display_data"
    }
   ],
   "source": [
    "#Insight 2. Measure of skewness and distribution, we can see IT is very spread out vs utilites compact.\n",
    "fig = plt.figure(figsize = (15,10))\n",
    "a = sns.boxplot(x = Returns_30day_info['GICS Sector'], y = Returns_30day_info['30d Return'],data = Returns_30day_info, showfliers = True)\n",
    "a.set_xticklabels(a.get_xticklabels(),rotation=80)\n",
    "plt.axhline(y=0 ,c = 'black', alpha = .7, ls = '--')\n",
    "plt.show(a)\n",
    "#Include overall median performance line"
   ]
  },
  {
   "cell_type": "code",
   "execution_count": 118,
   "metadata": {},
   "outputs": [],
   "source": [
    "#Repeat for standard Deviation. include top ten, bottom 10 and then boxplot\n",
    "SPY_Firms_30d_STD = pd.DataFrame(Firms_SPY500_30_Adj.std())\n",
    "SPY_Firms_30d_STD.columns = ['30d Standard Deviation']\n",
    "SPY_Firms_30d_STD = SPY_Firms.merge(SPY_Firms_30d_STD, on = 'Symbol')\n",
    "SPY_Firms_30d_STD.drop(columns = ['Unnamed: 0', 'Headquarters Location'], inplace = True)\n",
    "SPY_Firms_30d_STD = SPY_Firms_30d_STD.set_index('Symbol').sort_values('Symbol')"
   ]
  },
  {
   "cell_type": "code",
   "execution_count": 126,
   "metadata": {},
   "outputs": [
    {
     "data": {
      "text/plain": [
       "<AxesSubplot:>"
      ]
     },
     "execution_count": 126,
     "metadata": {},
     "output_type": "execute_result"
    },
    {
     "data": {
      "image/png": "[encoded data removed]",
      "text/plain": [
       "<Figure size 432x288 with 1 Axes>"
      ]
     },
     "metadata": {
      "needs_background": "light"
     },
     "output_type": "display_data"
    }
   ],
   "source": [
    "#Top 10 volatile stock\n",
    "Most_vol = (SPY_Firms_30d_STD.sort_values('30d Standard Deviation', ascending = False)).head(50)\n",
    "Most_vol['GICS Sector'].value_counts().plot(kind = 'bar')"
   ]
  },
  {
   "cell_type": "code",
   "execution_count": 127,
   "metadata": {},
   "outputs": [
    {
     "data": {
      "text/plain": [
       "<AxesSubplot:>"
      ]
     },
     "execution_count": 127,
     "metadata": {},
     "output_type": "execute_result"
    },
    {
     "data": {
      "image/png": "[encoded data removed]",
      "text/plain": [
       "<Figure size 432x288 with 1 Axes>"
      ]
     },
     "metadata": {
      "needs_background": "light"
     },
     "output_type": "display_data"
    }
   ],
   "source": [
    "Least_Vol = (SPY_Firms_30d_STD.sort_values('30d Standard Deviation', ascending = True)).head(50)\n",
    "Least_Vol['GICS Sector'].value_counts().plot(kind = 'bar')"
   ]
  },
  {
   "cell_type": "code",
   "execution_count": 207,
   "metadata": {},
   "outputs": [
    {
     "data": {
      "image/png": "[encoded data removed]",
      "text/plain": [
       "<Figure size 1440x504 with 1 Axes>"
      ]
     },
     "metadata": {
      "needs_background": "light"
     },
     "output_type": "display_data"
    }
   ],
   "source": [
    "#std by sector, remember we're not looking for mean std of sector rather looking at how std's are spread out\n",
    "#ignore outliers and hope for the best\n",
    "fig = plt.figure(figsize = (20,7))\n",
    "b = sns.boxplot(y = SPY_Firms_30d_STD['GICS Sector'], x = '30d Standard Deviation', data = SPY_Firms_30d_STD, showfliers = False)\n",
    "b.set_yticklabels(b.get_yticklabels(),rotation=0)\n",
    "plt.show(b)"
   ]
  },
  {
   "cell_type": "code",
   "execution_count": 208,
   "metadata": {},
   "outputs": [],
   "source": [
    "Firm_corr_abs= pd.DataFrame(Daily_Return.corr().abs().unstack().sort_values(ascending = False)[505::2])\n",
    "Firm_corr_abs.columns = ['Correlation Coefficient']\n",
    "Firm_corr_abs.index.names = ['Symbol 1','Symbol 2']"
   ]
  },
  {
   "cell_type": "code",
   "execution_count": 320,
   "metadata": {},
   "outputs": [],
   "source": [
    "Firm_corr = pd.DataFrame(Daily_Return.corr().unstack())\n",
    "Firm_corr.columns = ['Correlation Coefficient']\n",
    "Firm_corr.index.names = ['Symbol 1','Symbol 2']\n",
    "m = pd.DataFrame(Firm_corr.merge(Firm_corr_abs, on = ['Symbol 1','Symbol 2'])['Correlation Coefficient_x'])\n",
    "m.reset_index(inplace = True)\n",
    "m = m\n",
    "\n",
    "m.set_index('Symbol 1', inplace= True)\n",
    "m['Symbol 1 Sector'] = 0\n",
    "m['Symbol 2 Sector'] = 0\n",
    "for each in m.index:\n",
    "    m.loc[each, 'Symbol 2 Sector'] = SPY_Firms.loc[each]['GICS Sector']\n",
    "    \n",
    "m.reset_index(inplace = True)\n",
    "\n",
    "m.set_index('Symbol 2', inplace= True)\n",
    "for each in m.index:\n",
    "    m.loc[each, 'Symbol 1 Sector'] = SPY_Firms.loc[each]['GICS Sector']\n",
    "    \n",
    "m.reset_index(inplace = True)\n",
    "m.set_index('Symbol 1', inplace= True)\n",
    "m.reset_index(inplace = True)\n",
    "\n",
    "m.to_csv('Stock_Corr_wSec')"
   ]
  },
  {
   "cell_type": "code",
   "execution_count": 331,
   "metadata": {},
   "outputs": [
    {
     "data": {
      "text/html": [
       "<div>\n",
       "<style scoped>\n",
       "    .dataframe tbody tr th:only-of-type {\n",
       "        vertical-align: middle;\n",
       "    }\n",
       "\n",
       "    .dataframe tbody tr th {\n",
       "        vertical-align: top;\n",
       "    }\n",
       "\n",
       "    .dataframe thead th {\n",
       "        text-align: right;\n",
       "    }\n",
       "</style>\n",
       "<table border=\"1\" class=\"dataframe\">\n",
       "  <thead>\n",
       "    <tr style=\"text-align: right;\">\n",
       "      <th></th>\n",
       "      <th>Symbol 1</th>\n",
       "      <th>Symbol 2</th>\n",
       "      <th>Correlation Coefficient_x</th>\n",
       "      <th>Symbol 1 Sector</th>\n",
       "      <th>Symbol 2 Sector</th>\n",
       "      <th>Sector Same</th>\n",
       "    </tr>\n",
       "  </thead>\n",
       "  <tbody>\n",
       "    <tr>\n",
       "      <th>65049</th>\n",
       "      <td>JNPR</td>\n",
       "      <td>JKHY</td>\n",
       "      <td>-0.654836</td>\n",
       "      <td>Information Technology</td>\n",
       "      <td>Information Technology</td>\n",
       "      <td>True</td>\n",
       "    </tr>\n",
       "    <tr>\n",
       "      <th>69148</th>\n",
       "      <td>LEG</td>\n",
       "      <td>UAA</td>\n",
       "      <td>-0.641713</td>\n",
       "      <td>Consumer Discretionary</td>\n",
       "      <td>Consumer Discretionary</td>\n",
       "      <td>True</td>\n",
       "    </tr>\n",
       "    <tr>\n",
       "      <th>69147</th>\n",
       "      <td>LEG</td>\n",
       "      <td>UA</td>\n",
       "      <td>-0.637317</td>\n",
       "      <td>Consumer Discretionary</td>\n",
       "      <td>Consumer Discretionary</td>\n",
       "      <td>True</td>\n",
       "    </tr>\n",
       "    <tr>\n",
       "      <th>116611</th>\n",
       "      <td>UPS</td>\n",
       "      <td>LMT</td>\n",
       "      <td>-0.615564</td>\n",
       "      <td>Industrials</td>\n",
       "      <td>Industrials</td>\n",
       "      <td>True</td>\n",
       "    </tr>\n",
       "    <tr>\n",
       "      <th>47162</th>\n",
       "      <td>FISV</td>\n",
       "      <td>JNPR</td>\n",
       "      <td>-0.608203</td>\n",
       "      <td>Information Technology</td>\n",
       "      <td>Information Technology</td>\n",
       "      <td>True</td>\n",
       "    </tr>\n",
       "    <tr>\n",
       "      <th>...</th>\n",
       "      <td>...</td>\n",
       "      <td>...</td>\n",
       "      <td>...</td>\n",
       "      <td>...</td>\n",
       "      <td>...</td>\n",
       "      <td>...</td>\n",
       "    </tr>\n",
       "    <tr>\n",
       "      <th>48373</th>\n",
       "      <td>FOXA</td>\n",
       "      <td>FOX</td>\n",
       "      <td>0.983750</td>\n",
       "      <td>Communication Services</td>\n",
       "      <td>Communication Services</td>\n",
       "      <td>True</td>\n",
       "    </tr>\n",
       "    <tr>\n",
       "      <th>114692</th>\n",
       "      <td>UA</td>\n",
       "      <td>UAA</td>\n",
       "      <td>0.990303</td>\n",
       "      <td>Consumer Discretionary</td>\n",
       "      <td>Consumer Discretionary</td>\n",
       "      <td>True</td>\n",
       "    </tr>\n",
       "    <tr>\n",
       "      <th>81212</th>\n",
       "      <td>MTB</td>\n",
       "      <td>PBCT</td>\n",
       "      <td>0.991505</td>\n",
       "      <td>Financials</td>\n",
       "      <td>Financials</td>\n",
       "      <td>True</td>\n",
       "    </tr>\n",
       "    <tr>\n",
       "      <th>51666</th>\n",
       "      <td>GOOG</td>\n",
       "      <td>GOOGL</td>\n",
       "      <td>0.993857</td>\n",
       "      <td>Communication Services</td>\n",
       "      <td>Communication Services</td>\n",
       "      <td>True</td>\n",
       "    </tr>\n",
       "    <tr>\n",
       "      <th>34506</th>\n",
       "      <td>DISCA</td>\n",
       "      <td>DISCK</td>\n",
       "      <td>0.995639</td>\n",
       "      <td>Communication Services</td>\n",
       "      <td>Communication Services</td>\n",
       "      <td>True</td>\n",
       "    </tr>\n",
       "  </tbody>\n",
       "</table>\n",
       "<p>13670 rows × 6 columns</p>\n",
       "</div>"
      ],
      "text/plain": [
       "       Symbol 1 Symbol 2  Correlation Coefficient_x         Symbol 1 Sector  \\\n",
       "65049      JNPR     JKHY                  -0.654836  Information Technology   \n",
       "69148       LEG      UAA                  -0.641713  Consumer Discretionary   \n",
       "69147       LEG       UA                  -0.637317  Consumer Discretionary   \n",
       "116611      UPS      LMT                  -0.615564             Industrials   \n",
       "47162      FISV     JNPR                  -0.608203  Information Technology   \n",
       "...         ...      ...                        ...                     ...   \n",
       "48373      FOXA      FOX                   0.983750  Communication Services   \n",
       "114692       UA      UAA                   0.990303  Consumer Discretionary   \n",
       "81212       MTB     PBCT                   0.991505              Financials   \n",
       "51666      GOOG    GOOGL                   0.993857  Communication Services   \n",
       "34506     DISCA    DISCK                   0.995639  Communication Services   \n",
       "\n",
       "               Symbol 2 Sector  Sector Same  \n",
       "65049   Information Technology         True  \n",
       "69148   Consumer Discretionary         True  \n",
       "69147   Consumer Discretionary         True  \n",
       "116611             Industrials         True  \n",
       "47162   Information Technology         True  \n",
       "...                        ...          ...  \n",
       "48373   Communication Services         True  \n",
       "114692  Consumer Discretionary         True  \n",
       "81212               Financials         True  \n",
       "51666   Communication Services         True  \n",
       "34506   Communication Services         True  \n",
       "\n",
       "[13670 rows x 6 columns]"
      ]
     },
     "execution_count": 331,
     "metadata": {},
     "output_type": "execute_result"
    }
   ],
   "source": [
    "m = m.sort_values(by = 'Correlation Coefficient_x', ascending = True)\n",
    "m['Sector Same'] = m['Symbol 1 Sector'] == m['Symbol 2 Sector']\n",
    "m[m['Sector Same']]"
   ]
  }
 ],
 "metadata": {
  "kernelspec": {
   "display_name": "Python 3",
   "language": "python",
   "name": "python3"
  },
  "language_info": {
   "codemirror_mode": {
    "name": "ipython",
    "version": 3
   },
   "file_extension": ".py",
   "mimetype": "text/x-python",
   "name": "python",
   "nbconvert_exporter": "python",
   "pygments_lexer": "ipython3",
   "version": "3.8.5"
  }
 },
 "nbformat": 4,
 "nbformat_minor": 4
}
